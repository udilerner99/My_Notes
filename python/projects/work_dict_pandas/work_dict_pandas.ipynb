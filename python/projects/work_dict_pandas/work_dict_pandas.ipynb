{
 "cells": [
  {
   "cell_type": "code",
   "execution_count": 1,
   "metadata": {},
   "outputs": [],
   "source": [
    "import pandas as pd"
   ]
  },
  {
   "cell_type": "code",
   "execution_count": 11,
   "metadata": {},
   "outputs": [],
   "source": [
    "my_dict = (\n",
    "    {\"id\":123,\n",
    "     \"first_name\":\"Danny\",\n",
    "     \"last_name\":\"choen\",\n",
    "     \"sales\": 100},\n",
    "    {\"id\":456,\n",
    "     \"first_name\":\"Rick\",\n",
    "     \"last_name\":\"rude\",\n",
    "     \"sales\": 400},\n",
    "    {\"id\":123,\n",
    "     \"first_name\":\"Jhonny\",\n",
    "     \"last_name\":\"be-good\",\n",
    "     \"sales\": 800}\n",
    ")"
   ]
  },
  {
   "cell_type": "code",
   "execution_count": 12,
   "metadata": {},
   "outputs": [],
   "source": [
    "df = pd.DataFrame.from_dict(my_dict)"
   ]
  },
  {
   "cell_type": "code",
   "execution_count": 15,
   "metadata": {},
   "outputs": [
    {
     "name": "stdout",
     "output_type": "stream",
     "text": [
      "    id first_name last_name  sales\n",
      "0  123      Danny     Choen    100\n",
      "1  456       Rick      Rude    400\n",
      "2  123     Jhonny   Be-Good    800\n"
     ]
    }
   ],
   "source": [
    "df['last_name'] = df['last_name'].str.title()\n",
    "print(df)"
   ]
  },
  {
   "cell_type": "code",
   "execution_count": 16,
   "metadata": {},
   "outputs": [
    {
     "name": "stdout",
     "output_type": "stream",
     "text": [
      "    id first_name last_name  sales   avg_sales\n",
      "0  123      Danny     Choen    100  433.333333\n",
      "1  456       Rick      Rude    400  433.333333\n",
      "2  123     Jhonny   Be-Good    800  433.333333\n"
     ]
    }
   ],
   "source": [
    "# Calculate average sales and add it as a new column\n",
    "avg_sales = df['sales'].mean()\n",
    "df['avg_sales'] = avg_sales\n",
    "print(df)"
   ]
  },
  {
   "cell_type": "code",
   "execution_count": 17,
   "metadata": {},
   "outputs": [
    {
     "name": "stdout",
     "output_type": "stream",
     "text": [
      "    id first_name last_name  sales   avg_sales above_avg\n",
      "0  123      Danny     Choen    100  433.333333         N\n",
      "1  456       Rick      Rude    400  433.333333         N\n",
      "2  123     Jhonny   Be-Good    800  433.333333         Y\n"
     ]
    }
   ],
   "source": [
    "df['above_avg'] = df['sales'].apply(lambda x: 'Y' if x > avg_sales else 'N')\n",
    "print(df)"
   ]
  }
 ],
 "metadata": {
  "kernelspec": {
   "display_name": ".venv",
   "language": "python",
   "name": "python3"
  },
  "language_info": {
   "codemirror_mode": {
    "name": "ipython",
    "version": 3
   },
   "file_extension": ".py",
   "mimetype": "text/x-python",
   "name": "python",
   "nbconvert_exporter": "python",
   "pygments_lexer": "ipython3",
   "version": "3.10.11"
  }
 },
 "nbformat": 4,
 "nbformat_minor": 2
}
