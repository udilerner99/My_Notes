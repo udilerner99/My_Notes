{
 "cells": [
  {
   "cell_type": "code",
   "execution_count": 2,
   "metadata": {},
   "outputs": [],
   "source": [
    "import requests\n",
    "import pandas as pd"
   ]
  },
  {
   "cell_type": "code",
   "execution_count": 3,
   "metadata": {},
   "outputs": [],
   "source": [
    "# Define the URL for the API\n",
    "url = 'https://api.coindesk.com/v1/bpi/currentprice.json'\n",
    "\n",
    "# Send a GET request to fetch the data\n",
    "response = requests.get(url)"
   ]
  },
  {
   "cell_type": "code",
   "execution_count": 4,
   "metadata": {},
   "outputs": [
    {
     "name": "stdout",
     "output_type": "stream",
     "text": [
      "  salesPerson  sales code  total_sale_in_k\n",
      "0       Yossi   1500  USD     152532.08175\n",
      "1       Danni   7500  GBP     596761.17825\n"
     ]
    }
   ],
   "source": [
    "# Check if the request was successful (status code 200)\n",
    "if response.status_code == 200:\n",
    "    # Parse the JSON data\n",
    "    data = response.json()\n",
    "    \n",
    "    # Extract the 'bpi' data from the JSON response\n",
    "    bpi_data = data['bpi']\n",
    "    \n",
    "    # Convert the 'bpi' data into a DataFrame\n",
    "    bpi_df = pd.DataFrame.from_dict(bpi_data, orient='index')\n",
    "    \n",
    "    # Create the 'sales' DataFrame\n",
    "    sales_data = [\n",
    "        {\"salesPerson\": \"Yossi\", \"sales\": 1500, \"code\": \"USD\"},\n",
    "        {\"salesPerson\": \"Danni\", \"sales\": 7500, \"code\": \"GBP\"}\n",
    "    ]\n",
    "    sales_df = pd.DataFrame(sales_data)\n",
    "    \n",
    "    # Merge the 'sales' DataFrame with the 'bpi' DataFrame on the 'code' column\n",
    "    merged_df = pd.merge(sales_df, bpi_df, how='left', left_on='code', right_index=True)\n",
    "    \n",
    "    # Calculate the 'total_sale' by multiplying 'sales' by 'rate_float'\n",
    "    merged_df['total_sale_in_k'] = (merged_df['sales'] * merged_df['rate_float'])/1000\n",
    "    \n",
    "    # Print the resulting DataFrame\n",
    "    print(merged_df[['salesPerson', 'sales', 'code', 'total_sale_in_k']])\n",
    "else:\n",
    "    print(f\"Failed to fetch data. Status code: {response.status_code}\")\n"
   ]
  }
 ],
 "metadata": {
  "kernelspec": {
   "display_name": ".venv",
   "language": "python",
   "name": "python3"
  },
  "language_info": {
   "codemirror_mode": {
    "name": "ipython",
    "version": 3
   },
   "file_extension": ".py",
   "mimetype": "text/x-python",
   "name": "python",
   "nbconvert_exporter": "python",
   "pygments_lexer": "ipython3",
   "version": "3.10.11"
  }
 },
 "nbformat": 4,
 "nbformat_minor": 2
}
